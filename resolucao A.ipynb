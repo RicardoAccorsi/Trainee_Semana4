{
 "cells": [
  {
   "cell_type": "markdown",
   "id": "6a8ba2cf",
   "metadata": {},
   "source": [
    "### Preparação do Diretório"
   ]
  },
  {
   "cell_type": "code",
   "execution_count": 4,
   "id": "ec5198ac",
   "metadata": {},
   "outputs": [],
   "source": [
    "'''\n",
    "Definição da função auxiliar\n",
    "'''\n",
    "from tensorflow.keras.preprocessing.image import ImageDataGenerator\n",
    "\n",
    "\n",
    "def ajuste(data_dir, target_size, batch_size):\n",
    "    datagen = ImageDataGenerator(\n",
    "        rescale=1.0 / 255,  # normalização\n",
    "        validation_split=0.2  # separação de teste e treino\n",
    "    )\n",
    "    \n",
    "    # definir porção de dados para treino\n",
    "    train = datagen.flow_from_directory(\n",
    "        data_dir,\n",
    "        target_size=target_size,\n",
    "        batch_size=batch_size,\n",
    "        class_mode='categorical',\n",
    "        subset='training'\n",
    "    )\n",
    "    \n",
    "    # definir porção de dados para teste\n",
    "    test = datagen.flow_from_directory(\n",
    "        data_dir,\n",
    "        target_size=target_size,\n",
    "        batch_size=batch_size,\n",
    "        class_mode='categorical',\n",
    "        subset='validation'\n",
    "    )\n",
    "\n",
    "    return train, test"
   ]
  },
  {
   "cell_type": "code",
   "execution_count": 5,
   "id": "68599d56",
   "metadata": {},
   "outputs": [
    {
     "name": "stdout",
     "output_type": "stream",
     "text": [
      "Found 2400 images belonging to 3 classes.\n",
      "Found 600 images belonging to 3 classes.\n"
     ]
    }
   ],
   "source": [
    "'''\n",
    "Aplicação da função auxiliar\n",
    "'''\n",
    "\n",
    "# caminho do diretório\n",
    "data_dir = r'C:\\Users\\User\\UnB\\cis\\Trainee\\Semana4\\animals'\n",
    "\n",
    "# tamanho da imagem\n",
    "TARGET_SIZE = (224, 224)\n",
    "\n",
    "# tamanho do lote\n",
    "BATCH_SIZE = 32\n",
    "\n",
    "train, test = ajuste(data_dir, TARGET_SIZE, BATCH_SIZE)"
   ]
  },
  {
   "cell_type": "markdown",
   "id": "875fc6b8",
   "metadata": {},
   "source": [
    "### Definição da Rede Convolucional"
   ]
  },
  {
   "cell_type": "code",
   "execution_count": 19,
   "id": "d0b4c46f",
   "metadata": {},
   "outputs": [],
   "source": [
    "'''\n",
    "Criação do CNN com 1 hidden layer\n",
    "'''\n",
    "import tensorflow as tf\n",
    "\n",
    "\n",
    "def CNN():\n",
    "    model = tf.keras.Sequential([\n",
    "        \n",
    "        # primeira camada (feature learning)\n",
    "        tf.keras.layers.Conv2D(32, kernel_size=3, activation=\"relu\"),\n",
    "        tf.keras.layers.MaxPool2D(pool_size=2, strides=2),\n",
    "        \n",
    "        # segunda camada (feature learning)\n",
    "        tf.keras.layers.Conv2D(64, kernel_size=3, activation=\"relu\"),\n",
    "        tf.keras.layers.MaxPool2D(pool_size=2, strides=2),\n",
    "        \n",
    "        # camada final (classification)\n",
    "        tf.keras.layers.Flatten(),\n",
    "        tf.keras.layers.Dense(1024, activation=\"relu\"),\n",
    "        tf.keras.layers.Dense(3, activation=\"softmax\") # 3 outputs de classificação distintos\n",
    "    ])\n",
    "    \n",
    "    return model"
   ]
  },
  {
   "cell_type": "markdown",
   "id": "61c001e5",
   "metadata": {},
   "source": [
    "### Avaliação do modelo"
   ]
  },
  {
   "cell_type": "code",
   "execution_count": 20,
   "id": "3e6648ea",
   "metadata": {},
   "outputs": [
    {
     "name": "stdout",
     "output_type": "stream",
     "text": [
      "Epoch 1/10\n",
      "75/75 [==============================] - 204s 3s/step - loss: 2.7106 - accuracy: 0.5625 - val_loss: 0.7333 - val_accuracy: 0.6417\n",
      "Epoch 2/10\n",
      "75/75 [==============================] - 202s 3s/step - loss: 0.5770 - accuracy: 0.7321 - val_loss: 0.7413 - val_accuracy: 0.6633\n",
      "Epoch 3/10\n",
      "75/75 [==============================] - 210s 3s/step - loss: 0.3791 - accuracy: 0.8521 - val_loss: 0.8041 - val_accuracy: 0.6783\n",
      "Epoch 4/10\n",
      "75/75 [==============================] - 211s 3s/step - loss: 0.1811 - accuracy: 0.9337 - val_loss: 0.8601 - val_accuracy: 0.6683\n",
      "Epoch 5/10\n",
      "75/75 [==============================] - 223s 3s/step - loss: 0.0871 - accuracy: 0.9733 - val_loss: 1.2923 - val_accuracy: 0.6800\n",
      "Epoch 6/10\n",
      "75/75 [==============================] - 253s 3s/step - loss: 0.0769 - accuracy: 0.9800 - val_loss: 1.3560 - val_accuracy: 0.6800\n",
      "Epoch 7/10\n",
      "75/75 [==============================] - 251s 3s/step - loss: 0.0322 - accuracy: 0.9908 - val_loss: 1.7531 - val_accuracy: 0.6483\n",
      "Epoch 8/10\n",
      "75/75 [==============================] - 256s 3s/step - loss: 0.0093 - accuracy: 0.9996 - val_loss: 1.8653 - val_accuracy: 0.6300\n",
      "Epoch 9/10\n",
      "75/75 [==============================] - 270s 4s/step - loss: 0.0025 - accuracy: 1.0000 - val_loss: 2.1174 - val_accuracy: 0.6450\n",
      "Epoch 10/10\n",
      "75/75 [==============================] - 276s 4s/step - loss: 0.0011 - accuracy: 1.0000 - val_loss: 2.2345 - val_accuracy: 0.6367\n",
      "19/19 [==============================] - 11s 559ms/step - loss: 2.2345 - accuracy: 0.6367\n",
      "Loss: 2.2345311641693115\n",
      "Accuracy: 0.6366666555404663\n",
      "1/1 [==============================] - 1s 957ms/step\n"
     ]
    }
   ],
   "source": [
    "# criar modelo\n",
    "modelo = CNN()\n",
    "\n",
    "# compilar modelo\n",
    "modelo.compile(optimizer='adam', loss='categorical_crossentropy', metrics=['accuracy'])\n",
    "\n",
    "# treinar modelo\n",
    "epochs = 10\n",
    "modelo.fit(train, epochs=epochs, validation_data=test)\n",
    "\n",
    "# Avaliar o modelo\n",
    "evaluation = modelo.evaluate(test)\n",
    "print(\"Loss:\", evaluation[0])\n",
    "print(\"Accuracy:\", evaluation[1])\n",
    "\n",
    "# Fazer previsões em novos dados\n",
    "new_data = test.next()\n",
    "predictions = modelo.predict(new_data[0])\n"
   ]
  },
  {
   "cell_type": "markdown",
   "id": "2686c244",
   "metadata": {},
   "source": [
    "### Transfer Learning"
   ]
  },
  {
   "cell_type": "code",
   "execution_count": 23,
   "id": "36515da1",
   "metadata": {},
   "outputs": [
    {
     "name": "stdout",
     "output_type": "stream",
     "text": [
      "Epoch 1/10\n",
      "75/75 [==============================] - 2240s 30s/step - loss: 1.2143 - accuracy: 0.3079 - val_loss: 1.0988 - val_accuracy: 0.3333\n",
      "Epoch 2/10\n",
      "75/75 [==============================] - 1962s 26s/step - loss: 1.0992 - accuracy: 0.3446 - val_loss: 1.0987 - val_accuracy: 0.3333\n",
      "Epoch 3/10\n",
      "75/75 [==============================] - 2101s 28s/step - loss: 1.0992 - accuracy: 0.3258 - val_loss: 1.0987 - val_accuracy: 0.3333\n",
      "Epoch 4/10\n",
      "75/75 [==============================] - 1945s 26s/step - loss: 1.0989 - accuracy: 0.3367 - val_loss: 1.0986 - val_accuracy: 0.3333\n",
      "Epoch 5/10\n",
      "75/75 [==============================] - 1944s 26s/step - loss: 1.0992 - accuracy: 0.3221 - val_loss: 1.0986 - val_accuracy: 0.3333\n",
      "Epoch 6/10\n",
      "75/75 [==============================] - 1931s 26s/step - loss: 1.0987 - accuracy: 0.3217 - val_loss: 1.0986 - val_accuracy: 0.3333\n",
      "Epoch 7/10\n",
      "75/75 [==============================] - 1926s 26s/step - loss: 1.0987 - accuracy: 0.3308 - val_loss: 1.0986 - val_accuracy: 0.3333\n",
      "Epoch 8/10\n",
      "75/75 [==============================] - 1942s 26s/step - loss: 1.0991 - accuracy: 0.3029 - val_loss: 1.0986 - val_accuracy: 0.3333\n",
      "Epoch 9/10\n",
      "75/75 [==============================] - 1916s 26s/step - loss: 1.0992 - accuracy: 0.3233 - val_loss: 1.0986 - val_accuracy: 0.3333\n",
      "Epoch 10/10\n",
      "75/75 [==============================] - 1918s 26s/step - loss: 1.0988 - accuracy: 0.3458 - val_loss: 1.0986 - val_accuracy: 0.3333\n",
      "19/19 [==============================] - 128s 7s/step - loss: 1.0986 - accuracy: 0.3333\n",
      "Transfer Learning - Loss: 1.0986177921295166\n",
      "Transfer Learning - Accuracy: 0.3333333432674408\n"
     ]
    }
   ],
   "source": [
    "import tensorflow as tf\n",
    "from tensorflow.keras.applications import VGG16\n",
    "\n",
    "\n",
    "# Carregar modelo VGG16 pré-treinado sem camadas de classificação\n",
    "base_model = VGG16(weights='imagenet', include_top=False, input_shape=(224, 224, 3))\n",
    "\n",
    "# Adicionar camadas personalizadas (add batch normalization)\n",
    "modelo_transfer = tf.keras.Sequential([\n",
    "    base_model,\n",
    "    tf.keras.layers.GlobalAveragePooling2D(),\n",
    "    tf.keras.layers.Dense(1024, activation='relu')\n",
    "    tf.keras.layers.Dropout(0.5),\n",
    "    tf.keras.layers.Dense(3, activation='softmax')\n",
    "])\n",
    "\n",
    "# Compilar o modelo\n",
    "modelo_transfer.compile(optimizer='adam', loss='categorical_crossentropy', metrics=['accuracy'])\n",
    "\n",
    "# Treinar o modelo\n",
    "epochs = 10\n",
    "modelo_transfer.fit(train, epochs=epochs, validation_data=test)\n",
    "\n",
    "# Avaliar o modelo\n",
    "evaluation_transfer = modelo_transfer.evaluate(test)\n",
    "print(\"Transfer Learning - Loss:\", evaluation_transfer[0])\n",
    "print(\"Transfer Learning - Accuracy:\", evaluation_transfer[1])\n"
   ]
  },
  {
   "cell_type": "code",
   "execution_count": 6,
   "id": "c4da7823",
   "metadata": {},
   "outputs": [
    {
     "name": "stdout",
     "output_type": "stream",
     "text": [
      "Epoch 1/10\n",
      "75/75 [==============================] - 1957s 26s/step - loss: 0.9846 - accuracy: 0.5150 - val_loss: 0.8121 - val_accuracy: 0.5800\n",
      "Epoch 2/10\n",
      "75/75 [==============================] - 2027s 27s/step - loss: 0.8759 - accuracy: 0.5683 - val_loss: 1.6702 - val_accuracy: 0.3700\n",
      "Epoch 3/10\n",
      "75/75 [==============================] - 1981s 26s/step - loss: 0.8610 - accuracy: 0.5633 - val_loss: 1.0755 - val_accuracy: 0.4633\n",
      "Epoch 4/10\n",
      "75/75 [==============================] - 1924s 26s/step - loss: 0.7834 - accuracy: 0.5754 - val_loss: 2.7812 - val_accuracy: 0.3483\n",
      "Epoch 5/10\n",
      "75/75 [==============================] - 1922s 26s/step - loss: 0.7693 - accuracy: 0.5983 - val_loss: 1.3228 - val_accuracy: 0.3350\n",
      "Epoch 6/10\n",
      "75/75 [==============================] - 1942s 26s/step - loss: 0.7138 - accuracy: 0.6137 - val_loss: 1.2410 - val_accuracy: 0.4183\n",
      "Epoch 7/10\n",
      "75/75 [==============================] - 1971s 26s/step - loss: 0.7013 - accuracy: 0.6196 - val_loss: 0.8455 - val_accuracy: 0.6117\n",
      "Epoch 8/10\n",
      "75/75 [==============================] - 2003s 27s/step - loss: 0.6888 - accuracy: 0.6117 - val_loss: 0.9269 - val_accuracy: 0.5500\n",
      "Epoch 9/10\n",
      "75/75 [==============================] - 1662s 22s/step - loss: 0.6514 - accuracy: 0.6396 - val_loss: 1.7210 - val_accuracy: 0.3383\n",
      "Epoch 10/10\n",
      "75/75 [==============================] - 1625s 22s/step - loss: 0.7008 - accuracy: 0.6146 - val_loss: 0.7836 - val_accuracy: 0.6217\n",
      "19/19 [==============================] - 107s 6s/step - loss: 0.7836 - accuracy: 0.6217\n",
      "Transfer Learning - Loss: 0.7835859656333923\n",
      "Transfer Learning - Accuracy: 0.621666669845581\n"
     ]
    }
   ],
   "source": [
    "'''\n",
    "Considerando a piora do modelo com o uso do transfer learning, fez-se uma nova tentativa, alterando-se alguns parâmetros para\n",
    "verificar a possibilidade de melhoria. Essa nova tentetiva é percebida abaixo, após os feedbacks dados na semanal\n",
    "'''\n",
    "import tensorflow as tf\n",
    "from tensorflow.keras.applications import VGG16\n",
    "\n",
    "\n",
    "# Carregar modelo VGG16 pré-treinado sem camadas de classificação\n",
    "base_model = VGG16(weights='imagenet', include_top=False, input_shape=(224, 224, 3))\n",
    "\n",
    "# Adicionar camadas personalizadas (add batch normalization)\n",
    "modelo_transfer = tf.keras.Sequential([\n",
    "    base_model,\n",
    "    tf.keras.layers.GlobalAveragePooling2D(),\n",
    "    tf.keras.layers.Dense(32),\n",
    "    tf.keras.layers.BatchNormalization(),\n",
    "    tf.keras.layers.ReLU(),\n",
    "    tf.keras.layers.Dropout(0.5),\n",
    "    tf.keras.layers.Dense(3, activation='softmax')\n",
    "])\n",
    "\n",
    "# Compilar o modelo\n",
    "modelo_transfer.compile(optimizer='adam', loss='categorical_crossentropy', metrics=['accuracy'])\n",
    "\n",
    "# Treinar o modelo\n",
    "epochs = 10\n",
    "modelo_transfer.fit(train, epochs=epochs, validation_data=test)\n",
    "\n",
    "# Avaliar o modelo\n",
    "evaluation_transfer = modelo_transfer.evaluate(test)\n",
    "print(\"Transfer Learning - Loss:\", evaluation_transfer[0])\n",
    "print(\"Transfer Learning - Accuracy:\", evaluation_transfer[1])"
   ]
  },
  {
   "cell_type": "markdown",
   "id": "37a9c15e",
   "metadata": {},
   "source": [
    "### Implementação da Ideia de Regularização"
   ]
  },
  {
   "cell_type": "code",
   "execution_count": 24,
   "id": "6508c01b",
   "metadata": {},
   "outputs": [],
   "source": [
    "'''\n",
    "Inserção de camadas de dropout para reduzir overfitting\n",
    "'''\n",
    "import tensorflow as tf\n",
    "\n",
    "\n",
    "def reg_CNN():\n",
    "    model = tf.keras.Sequential([\n",
    "        \n",
    "        # primeira camada (feature learning)\n",
    "        tf.keras.layers.Conv2D(32, kernel_size=3, activation=\"relu\"),\n",
    "        tf.keras.layers.MaxPool2D(pool_size=2, strides=2),\n",
    "        tf.keras.layers.Dropout(0.25), # aplicação da ideia de regularização para reduzir overfitting\n",
    "        \n",
    "        # segunda camada (feature learning)\n",
    "        tf.keras.layers.Conv2D(64, kernel_size=3, activation=\"relu\"),\n",
    "        tf.keras.layers.MaxPool2D(pool_size=2, strides=2),\n",
    "        tf.keras.layers.Dropout(0.25), # aplicação da ideia de regularização para reduzir overfitting\n",
    "        \n",
    "        # camada final (classification)\n",
    "        tf.keras.layers.Flatten(),\n",
    "        tf.keras.layers.Dense(1024, activation=\"relu\"),\n",
    "        tf.keras.layers.Dropout(0.5),\n",
    "        tf.keras.layers.Dense(3, activation=\"softmax\") # 3 outputs de classificação distintos\n",
    "    ])\n",
    "    \n",
    "    return model"
   ]
  },
  {
   "cell_type": "code",
   "execution_count": 25,
   "id": "9e06bacb",
   "metadata": {},
   "outputs": [
    {
     "name": "stdout",
     "output_type": "stream",
     "text": [
      "Epoch 1/10\n",
      "75/75 [==============================] - 256s 3s/step - loss: 4.4601 - accuracy: 0.4675 - val_loss: 0.9047 - val_accuracy: 0.5533\n",
      "Epoch 2/10\n",
      "75/75 [==============================] - 243s 3s/step - loss: 0.8135 - accuracy: 0.6142 - val_loss: 0.9705 - val_accuracy: 0.4667\n",
      "Epoch 3/10\n",
      "75/75 [==============================] - 242s 3s/step - loss: 0.6825 - accuracy: 0.6708 - val_loss: 0.8649 - val_accuracy: 0.5250\n",
      "Epoch 4/10\n",
      "75/75 [==============================] - 243s 3s/step - loss: 0.5484 - accuracy: 0.7442 - val_loss: 0.8924 - val_accuracy: 0.5733\n",
      "Epoch 5/10\n",
      "75/75 [==============================] - 242s 3s/step - loss: 0.3923 - accuracy: 0.8183 - val_loss: 1.0638 - val_accuracy: 0.5733\n",
      "Epoch 6/10\n",
      "75/75 [==============================] - 243s 3s/step - loss: 0.2839 - accuracy: 0.8800 - val_loss: 1.2781 - val_accuracy: 0.5767\n",
      "Epoch 7/10\n",
      "75/75 [==============================] - 248s 3s/step - loss: 0.1944 - accuracy: 0.9208 - val_loss: 1.3865 - val_accuracy: 0.5567\n",
      "Epoch 8/10\n",
      "75/75 [==============================] - 250s 3s/step - loss: 0.1596 - accuracy: 0.9392 - val_loss: 1.5497 - val_accuracy: 0.5500\n",
      "Epoch 9/10\n",
      "75/75 [==============================] - 249s 3s/step - loss: 0.1675 - accuracy: 0.9425 - val_loss: 1.7354 - val_accuracy: 0.5633\n",
      "Epoch 10/10\n",
      "75/75 [==============================] - 248s 3s/step - loss: 0.1284 - accuracy: 0.9604 - val_loss: 1.7628 - val_accuracy: 0.5783\n",
      "19/19 [==============================] - 9s 456ms/step - loss: 1.7628 - accuracy: 0.5783\n",
      "Loss: 1.7627840042114258\n",
      "Accuracy: 0.57833331823349\n",
      "1/1 [==============================] - 1s 728ms/step\n"
     ]
    }
   ],
   "source": [
    "# criar modelo\n",
    "modelo1 = reg_CNN()\n",
    "\n",
    "# compilar modelo\n",
    "modelo1.compile(optimizer='adam', loss='categorical_crossentropy', metrics=['accuracy'])\n",
    "\n",
    "# treinar modelo\n",
    "epochs = 10\n",
    "modelo1.fit(train, epochs=epochs, validation_data=test)\n",
    "\n",
    "# Avaliar o modelo\n",
    "evaluation = modelo1.evaluate(test)\n",
    "print(\"Loss:\", evaluation[0])\n",
    "print(\"Accuracy:\", evaluation[1])\n",
    "\n",
    "# Fazer previsões em novos dados\n",
    "new_data = test.next()\n",
    "predictions = modelo1.predict(new_data[0])"
   ]
  },
  {
   "cell_type": "code",
   "execution_count": null,
   "id": "6ccb9439",
   "metadata": {},
   "outputs": [],
   "source": []
  }
 ],
 "metadata": {
  "kernelspec": {
   "display_name": "Python 3 (ipykernel)",
   "language": "python",
   "name": "python3"
  },
  "language_info": {
   "codemirror_mode": {
    "name": "ipython",
    "version": 3
   },
   "file_extension": ".py",
   "mimetype": "text/x-python",
   "name": "python",
   "nbconvert_exporter": "python",
   "pygments_lexer": "ipython3",
   "version": "3.10.9"
  }
 },
 "nbformat": 4,
 "nbformat_minor": 5
}
